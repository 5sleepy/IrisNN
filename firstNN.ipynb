{
  "nbformat": 4,
  "nbformat_minor": 0,
  "metadata": {
    "colab": {
      "provenance": [],
      "gpuType": "T4",
      "include_colab_link": true
    },
    "kernelspec": {
      "name": "python3",
      "display_name": "Python 3"
    },
    "language_info": {
      "name": "python"
    }
  },
  "cells": [
    {
      "cell_type": "markdown",
      "metadata": {
        "id": "view-in-github",
        "colab_type": "text"
      },
      "source": [
        "<a href=\"https://colab.research.google.com/github/5sleepy/IrisNN/blob/main/firstNN.ipynb\" target=\"_parent\"><img src=\"https://colab.research.google.com/assets/colab-badge.svg\" alt=\"Open In Colab\"/></a>"
      ]
    },
    {
      "cell_type": "code",
      "source": [
        "# import packages\n",
        "import torch\n",
        "import torch.nn as nn\n",
        "import torch.nn.functional as F\n",
        "import torch.optim as optim\n",
        "from torch.utils.data import DataLoader, TensorDataset\n",
        "from sklearn.datasets import load_iris\n",
        "from sklearn.model_selection import train_test_split\n",
        "from sklearn.preprocessing import StandardScaler\n",
        "import matplotlib.pyplot as plt"
      ],
      "metadata": {
        "id": "BIx8kezEiS9A"
      },
      "execution_count": 1,
      "outputs": []
    },
    {
      "cell_type": "code",
      "source": [
        "iris = load_iris()\n",
        "X = iris.data  # num of features\n",
        "y = iris.target  # num of labels\n",
        "\n",
        "X_train, X_test, y_train, y_test = train_test_split(X, y, test_size=0.2, random_state=42) # split dataset into train and test\n",
        "\n",
        "# scale data such that mean = 0, std = 1 for each feature\n",
        "# makes training faster and reduces pitfalls of gradient descent\n",
        "scaler = StandardScaler()\n",
        "X_train = scaler.fit_transform(X_train)\n",
        "X_test = scaler.transform(X_test)\n"
      ],
      "metadata": {
        "collapsed": true,
        "id": "X9Gt3SHwkWsR"
      },
      "execution_count": 2,
      "outputs": []
    },
    {
      "cell_type": "code",
      "source": [
        "# convert to pytorch tensors\n",
        "X_train = torch.tensor(X_train, dtype=torch.float32) # float bc features are cts\n",
        "y_train = torch.tensor(y_train, dtype=torch.long) # long bc optim fcts (cross entropy loss & negative log likelihood loss) expect y-val to be longs\n",
        "\n",
        "X_test = torch.tensor(X_test, dtype=torch.float32)\n",
        "y_test = torch.tensor(y_test, dtype=torch.long)\n"
      ],
      "metadata": {
        "id": "NL65O7QgRX4n"
      },
      "execution_count": 3,
      "outputs": []
    },
    {
      "cell_type": "code",
      "source": [
        "# create pytorch dataloaders to use with nn\n",
        "train_dataset = TensorDataset(X_train, y_train)\n",
        "test_dataset = TensorDataset(X_test, y_test)\n",
        "\n",
        "train_loader = DataLoader(train_dataset, batch_size=16, shuffle=True) # shuffle true to prevent learning order-based patterns, improve sgd, and reduce overfitting\n",
        "test_loader = DataLoader(test_dataset, batch_size=16, shuffle=False) # shuffle false because consistent testing and unnecessary since weights and biases aren't adjusted\n"
      ],
      "metadata": {
        "collapsed": true,
        "id": "uqWZFiiqmEc-"
      },
      "execution_count": 4,
      "outputs": []
    },
    {
      "cell_type": "code",
      "source": [
        "# define neural net architecture\n",
        "\n",
        "class myNN(nn.Module):\n",
        "\n",
        "  # described is a 3->8->8->4 neural net\n",
        "  def __init__(self, input_size=4, hidden_1=8, hidden_2=8, output_size=3):\n",
        "    super(myNN, self).__init__()\n",
        "    self.fc1 = nn.Linear(input_size, hidden_1)\n",
        "    self.fc2 = nn.Linear(hidden_1, hidden_2)\n",
        "    self.fcOut = nn.Linear(hidden_2, output_size)\n",
        "\n",
        "  def forward(self, x):\n",
        "    x = torch.relu(self.fc1(x))\n",
        "    x = torch.relu(self.fc2(x))\n",
        "    x = self.fcOut(x)\n",
        "    return x\n"
      ],
      "metadata": {
        "collapsed": true,
        "id": "2eetdNx8OviJ"
      },
      "execution_count": 5,
      "outputs": []
    },
    {
      "cell_type": "code",
      "source": [
        "# instantiate neural net, loss function and optimizer\n",
        "\n",
        "model = myNN()\n",
        "criterion = nn.CrossEntropyLoss() # appropriate loss function, as the nn is a classification model -> multinoulli cross-entropy\n",
        "optimizer = optim.Adam(model.parameters(),lr=0.01) # implements the ADAM optimization algorithm to adjust weights according to gradients from backpropagation"
      ],
      "metadata": {
        "id": "52Fh3Q3rlHiV"
      },
      "execution_count": 6,
      "outputs": []
    },
    {
      "cell_type": "code",
      "source": [
        "# train the model\n",
        "losses = []\n",
        "epochs = 100\n",
        "\n",
        "for epoch in range(epochs):\n",
        "  model.train() # set model to training mode\n",
        "  for X_batch, y_batch in train_loader:\n",
        "    optimizer.zero_grad() # zero the gradients (necessary because gradients are accumulated in backwards passes, which is useful for RNNs, but not for us rn)\n",
        "    output = model(X_batch) # forward pass of the features\n",
        "    loss = criterion(output, y_batch) # calculate the loss\n",
        "    loss.backward() # backward pass (backprop)\n",
        "    optimizer.step() # update weights and biases\n",
        "\n",
        "  # print loss every 10 epochs\n",
        "  if (epoch+1) % 10 == 0:\n",
        "    print(f'Epoch {epoch+1}, Loss: {loss.item():.4f}')\n",
        "\n",
        "    # save a checkpoint every 10 epochs containing data necessary to restart training\n",
        "    checkpoint = {\n",
        "        \"epoch\": epoch+1,\n",
        "        \"model_state_dict\": model.state_dict(),\n",
        "        \"optimizer_state_dict\": optimizer.state_dict(),\n",
        "        \"loss\": loss.item()\n",
        "    }\n",
        "    torch.save(checkpoint, f\"checkpoint_epoch_{epoch+1}.pth\")\n",
        "  losses.append(loss.item())\n"
      ],
      "metadata": {
        "colab": {
          "base_uri": "https://localhost:8080/"
        },
        "id": "wbZK60sJ5PPf",
        "outputId": "3ff66cb0-14d4-4544-a227-53a6bbe56d73"
      },
      "execution_count": 7,
      "outputs": [
        {
          "output_type": "stream",
          "name": "stdout",
          "text": [
            "Epoch 10, Loss: 0.2663\n",
            "Epoch 20, Loss: 0.1171\n",
            "Epoch 30, Loss: 0.0921\n",
            "Epoch 40, Loss: 0.0885\n",
            "Epoch 50, Loss: 0.0715\n",
            "Epoch 60, Loss: 0.0589\n",
            "Epoch 70, Loss: 0.0612\n",
            "Epoch 80, Loss: 0.0201\n",
            "Epoch 90, Loss: 0.0185\n",
            "Epoch 100, Loss: 0.0206\n"
          ]
        }
      ]
    },
    {
      "cell_type": "code",
      "source": [
        "# Plotting the loss over epochs\n",
        "plt.plot(range(1, epochs+1), losses)\n",
        "plt.xlabel(\"Epochs\")\n",
        "plt.ylabel(\"Loss\")\n",
        "plt.title(\"Loss Over Epochs\")\n",
        "plt.grid(True)\n",
        "plt.show()\n"
      ],
      "metadata": {
        "colab": {
          "base_uri": "https://localhost:8080/",
          "height": 472
        },
        "id": "GhLSapaX_gzl",
        "outputId": "2d73b988-e1b8-4b04-c4f1-1dedd4d78ea4"
      },
      "execution_count": 8,
      "outputs": [
        {
          "output_type": "display_data",
          "data": {
            "text/plain": [
              "<Figure size 640x480 with 1 Axes>"
            ],
            "image/png": "[encoded data removed]"
          },
          "metadata": {}
        }
      ]
    },
    {
      "cell_type": "code",
      "source": [
        "# loss graph shows that after around 20 epochs, the model is adjusting to the noise in the dataset rather than any patterns\n",
        "# load data from epoch 20\n",
        "checkpoint = torch.load(\"checkpoint_epoch_20.pth\")\n",
        "\n",
        "model.load_state_dict(checkpoint[\"model_state_dict\"])"
      ],
      "metadata": {
        "id": "2Q8Vrf_7D3Mj",
        "colab": {
          "base_uri": "https://localhost:8080/"
        },
        "outputId": "d8d67bbf-cf3f-4899-d254-908eba119fc1"
      },
      "execution_count": 9,
      "outputs": [
        {
          "output_type": "execute_result",
          "data": {
            "text/plain": [
              "<All keys matched successfully>"
            ]
          },
          "metadata": {},
          "execution_count": 9
        }
      ]
    },
    {
      "cell_type": "code",
      "source": [
        "# evaluate the model\n",
        "model.eval()\n",
        "correct = 0\n",
        "total = 0\n",
        "\n",
        "with torch.no_grad():\n",
        "  for X_batch, y_batch in test_loader:\n",
        "    output = model(X_batch)\n",
        "    _, predicted = torch.max(output, 1) # torch.max returns a tuple of 2 tensors: max values tensor and index of the max values tensor\n",
        "    total += y_batch.size(0) # gets the number of items in the batch (since y_batch is a tensor of shape (16, 4))\n",
        "    # compares the predicted and actual labels, returning a tensor of boolean values. sum() counts the number of correct predictions, and item() converts from tensor to python scalar\n",
        "    correct += (predicted == y_batch).sum().item()\n",
        "\n",
        "accuracy = correct/total\n",
        "print(f'Accuracy: {accuracy:.4f}')"
      ],
      "metadata": {
        "colab": {
          "base_uri": "https://localhost:8080/"
        },
        "id": "nerUt6fHA1sK",
        "outputId": "309b3221-1e06-433e-ce3c-4b84816621f5"
      },
      "execution_count": 10,
      "outputs": [
        {
          "output_type": "stream",
          "name": "stdout",
          "text": [
            "Accuracy: 0.9667\n"
          ]
        }
      ]
    }
  ]
}